{
 "cells": [
  {
   "cell_type": "markdown",
   "id": "97a108bd-186d-41a5-a1bf-02bdea16f186",
   "metadata": {},
   "source": [
    "# Training a housing prediction model\n",
    "\n",
    "Dataset source: https://www.data.gouv.fr/fr/datasets/demandes-de-valeurs-foncieres-geolocalisees/"
   ]
  },
  {
   "cell_type": "code",
   "execution_count": 47,
   "id": "7c263309-e4b8-4b5f-8ebf-b8bfc88315db",
   "metadata": {},
   "outputs": [],
   "source": [
    "import gzip\n",
    "import io\n",
    "import os\n",
    "import glob\n",
    "import joblib\n",
    "import matplotlib.pyplot as plt\n",
    "import numpy as np\n",
    "import pandas as pd\n",
    "import requests\n",
    "\n",
    "from pathlib import Path\n",
    "from matplotlib_inline.backend_inline import set_matplotlib_formats\n",
    "from sklearn.compose import ColumnTransformer\n",
    "from sklearn.impute import SimpleImputer\n",
    "from sklearn.linear_model import LinearRegression\n",
    "from sklearn.metrics import mean_squared_error, r2_score\n",
    "from sklearn.model_selection import train_test_split\n",
    "from sklearn.pipeline import Pipeline\n",
    "from sklearn.preprocessing import OneHotEncoder, StandardScaler\n",
    "\n",
    "set_matplotlib_formats(\"svg\")"
   ]
  },
  {
   "cell_type": "markdown",
   "id": "07f9e636-61ba-489d-b203-d5774931a980",
   "metadata": {},
   "source": [
    "## Extract dataset"
   ]
  },
  {
   "cell_type": "code",
   "execution_count": 2,
   "id": "c288fed4-5d73-4f5c-bdf7-7ccf7f5f513f",
   "metadata": {},
   "outputs": [],
   "source": [
    "def fetch_dataset(department: int) -> Path:\n",
    "    dataset_url = f\"https://files.data.gouv.fr/geo-dvf/latest/csv/2021/departements/{department}.csv.gz\"\n",
    "    dataset_base_path = Path(\".datasets\")\n",
    "    dataset_gz_path = dataset_base_path / f\"{department}.csv.gz\"\n",
    "    dataset_csv_path = dataset_base_path / f\"{department}.csv\"\n",
    "    dataset_base_path.mkdir(parents=True, exist_ok=True)\n",
    "    \n",
    "    if not dataset_csv_path.exists():\n",
    "        response = requests.get(dataset_url)\n",
    "        dataset_gz = io.BytesIO(response.content)\n",
    "        with gzip.open(dataset_gz, \"rb\") as fgz:\n",
    "            dataset_csv_path.write_bytes(fgz.read())\n",
    "    \n",
    "    return dataset_csv_path"
   ]
  },
  {
   "cell_type": "code",
   "execution_count": 3,
   "id": "652566d4-777a-448a-bc07-870615bd6f7c",
   "metadata": {},
   "outputs": [
    {
     "name": "stderr",
     "output_type": "stream",
     "text": [
      "C:\\Users\\SESA674517\\AppData\\Local\\Temp\\ipykernel_10460\\307802376.py:7: DtypeWarning: Columns (18) have mixed types. Specify dtype option on import or set low_memory=False.\n",
      "  df = pd.read_csv(dataset_path)\n",
      "C:\\Users\\SESA674517\\AppData\\Local\\Temp\\ipykernel_10460\\307802376.py:7: DtypeWarning: Columns (17,18) have mixed types. Specify dtype option on import or set low_memory=False.\n",
      "  df = pd.read_csv(dataset_path)\n",
      "C:\\Users\\SESA674517\\AppData\\Local\\Temp\\ipykernel_10460\\307802376.py:7: DtypeWarning: Columns (18,20,22,24) have mixed types. Specify dtype option on import or set low_memory=False.\n",
      "  df = pd.read_csv(dataset_path)\n",
      "C:\\Users\\SESA674517\\AppData\\Local\\Temp\\ipykernel_10460\\307802376.py:7: DtypeWarning: Columns (18,20,22) have mixed types. Specify dtype option on import or set low_memory=False.\n",
      "  df = pd.read_csv(dataset_path)\n",
      "C:\\Users\\SESA674517\\AppData\\Local\\Temp\\ipykernel_10460\\307802376.py:7: DtypeWarning: Columns (17) have mixed types. Specify dtype option on import or set low_memory=False.\n",
      "  df = pd.read_csv(dataset_path)\n",
      "C:\\Users\\SESA674517\\AppData\\Local\\Temp\\ipykernel_10460\\307802376.py:7: DtypeWarning: Columns (18) have mixed types. Specify dtype option on import or set low_memory=False.\n",
      "  df = pd.read_csv(dataset_path)\n",
      "C:\\Users\\SESA674517\\AppData\\Local\\Temp\\ipykernel_10460\\307802376.py:7: DtypeWarning: Columns (14,17,18) have mixed types. Specify dtype option on import or set low_memory=False.\n",
      "  df = pd.read_csv(dataset_path)\n",
      "C:\\Users\\SESA674517\\AppData\\Local\\Temp\\ipykernel_10460\\307802376.py:7: DtypeWarning: Columns (17) have mixed types. Specify dtype option on import or set low_memory=False.\n",
      "  df = pd.read_csv(dataset_path)\n",
      "C:\\Users\\SESA674517\\AppData\\Local\\Temp\\ipykernel_10460\\307802376.py:7: DtypeWarning: Columns (18,20) have mixed types. Specify dtype option on import or set low_memory=False.\n",
      "  df = pd.read_csv(dataset_path)\n",
      "C:\\Users\\SESA674517\\AppData\\Local\\Temp\\ipykernel_10460\\307802376.py:7: DtypeWarning: Columns (17,18) have mixed types. Specify dtype option on import or set low_memory=False.\n",
      "  df = pd.read_csv(dataset_path)\n",
      "C:\\Users\\SESA674517\\AppData\\Local\\Temp\\ipykernel_10460\\307802376.py:7: DtypeWarning: Columns (17) have mixed types. Specify dtype option on import or set low_memory=False.\n",
      "  df = pd.read_csv(dataset_path)\n",
      "C:\\Users\\SESA674517\\AppData\\Local\\Temp\\ipykernel_10460\\307802376.py:7: DtypeWarning: Columns (17) have mixed types. Specify dtype option on import or set low_memory=False.\n",
      "  df = pd.read_csv(dataset_path)\n",
      "C:\\Users\\SESA674517\\AppData\\Local\\Temp\\ipykernel_10460\\307802376.py:7: DtypeWarning: Columns (17,20) have mixed types. Specify dtype option on import or set low_memory=False.\n",
      "  df = pd.read_csv(dataset_path)\n",
      "C:\\Users\\SESA674517\\AppData\\Local\\Temp\\ipykernel_10460\\307802376.py:7: DtypeWarning: Columns (18,20) have mixed types. Specify dtype option on import or set low_memory=False.\n",
      "  df = pd.read_csv(dataset_path)\n",
      "C:\\Users\\SESA674517\\AppData\\Local\\Temp\\ipykernel_10460\\307802376.py:7: DtypeWarning: Columns (17,18,20,22,24) have mixed types. Specify dtype option on import or set low_memory=False.\n",
      "  df = pd.read_csv(dataset_path)\n",
      "C:\\Users\\SESA674517\\AppData\\Local\\Temp\\ipykernel_10460\\307802376.py:7: DtypeWarning: Columns (17,18,20) have mixed types. Specify dtype option on import or set low_memory=False.\n",
      "  df = pd.read_csv(dataset_path)\n",
      "C:\\Users\\SESA674517\\AppData\\Local\\Temp\\ipykernel_10460\\307802376.py:7: DtypeWarning: Columns (18) have mixed types. Specify dtype option on import or set low_memory=False.\n",
      "  df = pd.read_csv(dataset_path)\n",
      "C:\\Users\\SESA674517\\AppData\\Local\\Temp\\ipykernel_10460\\307802376.py:7: DtypeWarning: Columns (18) have mixed types. Specify dtype option on import or set low_memory=False.\n",
      "  df = pd.read_csv(dataset_path)\n",
      "C:\\Users\\SESA674517\\AppData\\Local\\Temp\\ipykernel_10460\\307802376.py:7: DtypeWarning: Columns (18) have mixed types. Specify dtype option on import or set low_memory=False.\n",
      "  df = pd.read_csv(dataset_path)\n",
      "C:\\Users\\SESA674517\\AppData\\Local\\Temp\\ipykernel_10460\\307802376.py:7: DtypeWarning: Columns (17) have mixed types. Specify dtype option on import or set low_memory=False.\n",
      "  df = pd.read_csv(dataset_path)\n",
      "C:\\Users\\SESA674517\\AppData\\Local\\Temp\\ipykernel_10460\\307802376.py:7: DtypeWarning: Columns (18,20) have mixed types. Specify dtype option on import or set low_memory=False.\n",
      "  df = pd.read_csv(dataset_path)\n",
      "C:\\Users\\SESA674517\\AppData\\Local\\Temp\\ipykernel_10460\\307802376.py:7: DtypeWarning: Columns (17,18) have mixed types. Specify dtype option on import or set low_memory=False.\n",
      "  df = pd.read_csv(dataset_path)\n",
      "C:\\Users\\SESA674517\\AppData\\Local\\Temp\\ipykernel_10460\\307802376.py:7: DtypeWarning: Columns (17) have mixed types. Specify dtype option on import or set low_memory=False.\n",
      "  df = pd.read_csv(dataset_path)\n",
      "C:\\Users\\SESA674517\\AppData\\Local\\Temp\\ipykernel_10460\\307802376.py:7: DtypeWarning: Columns (17) have mixed types. Specify dtype option on import or set low_memory=False.\n",
      "  df = pd.read_csv(dataset_path)\n",
      "C:\\Users\\SESA674517\\AppData\\Local\\Temp\\ipykernel_10460\\307802376.py:7: DtypeWarning: Columns (17,18,20) have mixed types. Specify dtype option on import or set low_memory=False.\n",
      "  df = pd.read_csv(dataset_path)\n",
      "C:\\Users\\SESA674517\\AppData\\Local\\Temp\\ipykernel_10460\\307802376.py:7: DtypeWarning: Columns (17) have mixed types. Specify dtype option on import or set low_memory=False.\n",
      "  df = pd.read_csv(dataset_path)\n",
      "C:\\Users\\SESA674517\\AppData\\Local\\Temp\\ipykernel_10460\\307802376.py:7: DtypeWarning: Columns (18,20) have mixed types. Specify dtype option on import or set low_memory=False.\n",
      "  df = pd.read_csv(dataset_path)\n",
      "C:\\Users\\SESA674517\\AppData\\Local\\Temp\\ipykernel_10460\\307802376.py:7: DtypeWarning: Columns (22) have mixed types. Specify dtype option on import or set low_memory=False.\n",
      "  df = pd.read_csv(dataset_path)\n",
      "C:\\Users\\SESA674517\\AppData\\Local\\Temp\\ipykernel_10460\\307802376.py:7: DtypeWarning: Columns (17) have mixed types. Specify dtype option on import or set low_memory=False.\n",
      "  df = pd.read_csv(dataset_path)\n",
      "C:\\Users\\SESA674517\\AppData\\Local\\Temp\\ipykernel_10460\\307802376.py:7: DtypeWarning: Columns (20,22) have mixed types. Specify dtype option on import or set low_memory=False.\n",
      "  df = pd.read_csv(dataset_path)\n",
      "C:\\Users\\SESA674517\\AppData\\Local\\Temp\\ipykernel_10460\\307802376.py:7: DtypeWarning: Columns (18,20) have mixed types. Specify dtype option on import or set low_memory=False.\n",
      "  df = pd.read_csv(dataset_path)\n",
      "C:\\Users\\SESA674517\\AppData\\Local\\Temp\\ipykernel_10460\\307802376.py:7: DtypeWarning: Columns (18) have mixed types. Specify dtype option on import or set low_memory=False.\n",
      "  df = pd.read_csv(dataset_path)\n",
      "C:\\Users\\SESA674517\\AppData\\Local\\Temp\\ipykernel_10460\\307802376.py:7: DtypeWarning: Columns (35,36) have mixed types. Specify dtype option on import or set low_memory=False.\n",
      "  df = pd.read_csv(dataset_path)\n",
      "C:\\Users\\SESA674517\\AppData\\Local\\Temp\\ipykernel_10460\\307802376.py:7: DtypeWarning: Columns (18,20,22,35,36) have mixed types. Specify dtype option on import or set low_memory=False.\n",
      "  df = pd.read_csv(dataset_path)\n",
      "C:\\Users\\SESA674517\\AppData\\Local\\Temp\\ipykernel_10460\\307802376.py:7: DtypeWarning: Columns (18) have mixed types. Specify dtype option on import or set low_memory=False.\n",
      "  df = pd.read_csv(dataset_path)\n",
      "C:\\Users\\SESA674517\\AppData\\Local\\Temp\\ipykernel_10460\\307802376.py:7: DtypeWarning: Columns (17,20) have mixed types. Specify dtype option on import or set low_memory=False.\n",
      "  df = pd.read_csv(dataset_path)\n",
      "C:\\Users\\SESA674517\\AppData\\Local\\Temp\\ipykernel_10460\\307802376.py:7: DtypeWarning: Columns (18) have mixed types. Specify dtype option on import or set low_memory=False.\n",
      "  df = pd.read_csv(dataset_path)\n",
      "C:\\Users\\SESA674517\\AppData\\Local\\Temp\\ipykernel_10460\\307802376.py:7: DtypeWarning: Columns (18,20) have mixed types. Specify dtype option on import or set low_memory=False.\n",
      "  df = pd.read_csv(dataset_path)\n",
      "C:\\Users\\SESA674517\\AppData\\Local\\Temp\\ipykernel_10460\\307802376.py:7: DtypeWarning: Columns (18,20) have mixed types. Specify dtype option on import or set low_memory=False.\n",
      "  df = pd.read_csv(dataset_path)\n",
      "C:\\Users\\SESA674517\\AppData\\Local\\Temp\\ipykernel_10460\\307802376.py:7: DtypeWarning: Columns (18,20,22,24) have mixed types. Specify dtype option on import or set low_memory=False.\n",
      "  df = pd.read_csv(dataset_path)\n",
      "C:\\Users\\SESA674517\\AppData\\Local\\Temp\\ipykernel_10460\\307802376.py:7: DtypeWarning: Columns (18) have mixed types. Specify dtype option on import or set low_memory=False.\n",
      "  df = pd.read_csv(dataset_path)\n",
      "C:\\Users\\SESA674517\\AppData\\Local\\Temp\\ipykernel_10460\\307802376.py:7: DtypeWarning: Columns (17) have mixed types. Specify dtype option on import or set low_memory=False.\n",
      "  df = pd.read_csv(dataset_path)\n"
     ]
    }
   ],
   "source": [
    "#Download the data for every department\n",
    "for i in range(1, 96):\n",
    "    if i == 20 or i == 57 or i == 67 or i == 68:\n",
    "        continue\n",
    "    #add the leading zeros for the first 10 numbers\n",
    "    dataset_path = fetch_dataset(f\"{i:02d}\")\n",
    "    \n",
    "    df = pd.read_csv(dataset_path)\n",
    "    \n",
    "    #drop rows if they have na values for \"code_postal\"\n",
    "    df.dropna(subset=['code_postal'], axis=0, inplace=True)\n",
    "    \n",
    "    #drop rows if they have na values for \"valeur_fonciere\"\n",
    "    df.dropna(subset=['valeur_fonciere'], axis=0, inplace=True)\n",
    "    \n",
    "    df[\"code_postal\"] = df[\"code_postal\"].map(int).map(str).str.zfill(5)\n",
    "    df[\"Departement\"] = i\n",
    "    df.to_csv(dataset_path, index=False)"
   ]
  },
  {
   "cell_type": "markdown",
   "id": "3c7d10ac-e081-4860-a012-500fa2cb08b0",
   "metadata": {},
   "source": [
    "## Quick look and load at the dataset"
   ]
  },
  {
   "cell_type": "code",
   "execution_count": 19,
   "id": "2b6f1e33-5e97-4b66-b323-6ee78790d56a",
   "metadata": {},
   "outputs": [],
   "source": [
    "def load_dataset(filepath) -> pd.DataFrame:\n",
    "    return pd.read_csv(filepath, converters={'code_postal': str, \"code_commune\": str})"
   ]
  },
  {
   "cell_type": "code",
   "execution_count": 91,
   "id": "910f8d8d-43fd-4da2-98f7-88d979c3fc89",
   "metadata": {},
   "outputs": [
    {
     "name": "stderr",
     "output_type": "stream",
     "text": [
      "C:\\Users\\SESA674517\\AppData\\Local\\Temp\\ipykernel_10460\\481933832.py:6: DtypeWarning: Columns (18) have mixed types. Specify dtype option on import or set low_memory=False.\n",
      "  df = pd.read_csv(filename, index_col=None, header=0)\n",
      "C:\\Users\\SESA674517\\AppData\\Local\\Temp\\ipykernel_10460\\481933832.py:6: DtypeWarning: Columns (17,18) have mixed types. Specify dtype option on import or set low_memory=False.\n",
      "  df = pd.read_csv(filename, index_col=None, header=0)\n",
      "C:\\Users\\SESA674517\\AppData\\Local\\Temp\\ipykernel_10460\\481933832.py:6: DtypeWarning: Columns (18,20,22,24) have mixed types. Specify dtype option on import or set low_memory=False.\n",
      "  df = pd.read_csv(filename, index_col=None, header=0)\n",
      "C:\\Users\\SESA674517\\AppData\\Local\\Temp\\ipykernel_10460\\481933832.py:6: DtypeWarning: Columns (18,20,22) have mixed types. Specify dtype option on import or set low_memory=False.\n",
      "  df = pd.read_csv(filename, index_col=None, header=0)\n",
      "C:\\Users\\SESA674517\\AppData\\Local\\Temp\\ipykernel_10460\\481933832.py:6: DtypeWarning: Columns (18) have mixed types. Specify dtype option on import or set low_memory=False.\n",
      "  df = pd.read_csv(filename, index_col=None, header=0)\n",
      "C:\\Users\\SESA674517\\AppData\\Local\\Temp\\ipykernel_10460\\481933832.py:6: DtypeWarning: Columns (14,18) have mixed types. Specify dtype option on import or set low_memory=False.\n",
      "  df = pd.read_csv(filename, index_col=None, header=0)\n",
      "C:\\Users\\SESA674517\\AppData\\Local\\Temp\\ipykernel_10460\\481933832.py:6: DtypeWarning: Columns (18,20) have mixed types. Specify dtype option on import or set low_memory=False.\n",
      "  df = pd.read_csv(filename, index_col=None, header=0)\n",
      "C:\\Users\\SESA674517\\AppData\\Local\\Temp\\ipykernel_10460\\481933832.py:6: DtypeWarning: Columns (18) have mixed types. Specify dtype option on import or set low_memory=False.\n",
      "  df = pd.read_csv(filename, index_col=None, header=0)\n",
      "C:\\Users\\SESA674517\\AppData\\Local\\Temp\\ipykernel_10460\\481933832.py:6: DtypeWarning: Columns (20) have mixed types. Specify dtype option on import or set low_memory=False.\n",
      "  df = pd.read_csv(filename, index_col=None, header=0)\n",
      "C:\\Users\\SESA674517\\AppData\\Local\\Temp\\ipykernel_10460\\481933832.py:6: DtypeWarning: Columns (18,20) have mixed types. Specify dtype option on import or set low_memory=False.\n",
      "  df = pd.read_csv(filename, index_col=None, header=0)\n",
      "C:\\Users\\SESA674517\\AppData\\Local\\Temp\\ipykernel_10460\\481933832.py:6: DtypeWarning: Columns (18,20,22,24) have mixed types. Specify dtype option on import or set low_memory=False.\n",
      "  df = pd.read_csv(filename, index_col=None, header=0)\n",
      "C:\\Users\\SESA674517\\AppData\\Local\\Temp\\ipykernel_10460\\481933832.py:6: DtypeWarning: Columns (18,20) have mixed types. Specify dtype option on import or set low_memory=False.\n",
      "  df = pd.read_csv(filename, index_col=None, header=0)\n",
      "C:\\Users\\SESA674517\\AppData\\Local\\Temp\\ipykernel_10460\\481933832.py:6: DtypeWarning: Columns (18) have mixed types. Specify dtype option on import or set low_memory=False.\n",
      "  df = pd.read_csv(filename, index_col=None, header=0)\n",
      "C:\\Users\\SESA674517\\AppData\\Local\\Temp\\ipykernel_10460\\481933832.py:6: DtypeWarning: Columns (18) have mixed types. Specify dtype option on import or set low_memory=False.\n",
      "  df = pd.read_csv(filename, index_col=None, header=0)\n",
      "C:\\Users\\SESA674517\\AppData\\Local\\Temp\\ipykernel_10460\\481933832.py:6: DtypeWarning: Columns (18) have mixed types. Specify dtype option on import or set low_memory=False.\n",
      "  df = pd.read_csv(filename, index_col=None, header=0)\n",
      "C:\\Users\\SESA674517\\AppData\\Local\\Temp\\ipykernel_10460\\481933832.py:6: DtypeWarning: Columns (17) have mixed types. Specify dtype option on import or set low_memory=False.\n",
      "  df = pd.read_csv(filename, index_col=None, header=0)\n",
      "C:\\Users\\SESA674517\\AppData\\Local\\Temp\\ipykernel_10460\\481933832.py:6: DtypeWarning: Columns (18,20) have mixed types. Specify dtype option on import or set low_memory=False.\n",
      "  df = pd.read_csv(filename, index_col=None, header=0)\n",
      "C:\\Users\\SESA674517\\AppData\\Local\\Temp\\ipykernel_10460\\481933832.py:6: DtypeWarning: Columns (18) have mixed types. Specify dtype option on import or set low_memory=False.\n",
      "  df = pd.read_csv(filename, index_col=None, header=0)\n",
      "C:\\Users\\SESA674517\\AppData\\Local\\Temp\\ipykernel_10460\\481933832.py:6: DtypeWarning: Columns (17) have mixed types. Specify dtype option on import or set low_memory=False.\n",
      "  df = pd.read_csv(filename, index_col=None, header=0)\n",
      "C:\\Users\\SESA674517\\AppData\\Local\\Temp\\ipykernel_10460\\481933832.py:6: DtypeWarning: Columns (18,20) have mixed types. Specify dtype option on import or set low_memory=False.\n",
      "  df = pd.read_csv(filename, index_col=None, header=0)\n",
      "C:\\Users\\SESA674517\\AppData\\Local\\Temp\\ipykernel_10460\\481933832.py:6: DtypeWarning: Columns (18,20) have mixed types. Specify dtype option on import or set low_memory=False.\n",
      "  df = pd.read_csv(filename, index_col=None, header=0)\n",
      "C:\\Users\\SESA674517\\AppData\\Local\\Temp\\ipykernel_10460\\481933832.py:6: DtypeWarning: Columns (22) have mixed types. Specify dtype option on import or set low_memory=False.\n",
      "  df = pd.read_csv(filename, index_col=None, header=0)\n",
      "C:\\Users\\SESA674517\\AppData\\Local\\Temp\\ipykernel_10460\\481933832.py:6: DtypeWarning: Columns (20,22) have mixed types. Specify dtype option on import or set low_memory=False.\n",
      "  df = pd.read_csv(filename, index_col=None, header=0)\n",
      "C:\\Users\\SESA674517\\AppData\\Local\\Temp\\ipykernel_10460\\481933832.py:6: DtypeWarning: Columns (18,20) have mixed types. Specify dtype option on import or set low_memory=False.\n",
      "  df = pd.read_csv(filename, index_col=None, header=0)\n",
      "C:\\Users\\SESA674517\\AppData\\Local\\Temp\\ipykernel_10460\\481933832.py:6: DtypeWarning: Columns (18) have mixed types. Specify dtype option on import or set low_memory=False.\n",
      "  df = pd.read_csv(filename, index_col=None, header=0)\n",
      "C:\\Users\\SESA674517\\AppData\\Local\\Temp\\ipykernel_10460\\481933832.py:6: DtypeWarning: Columns (18,20,22,35,36) have mixed types. Specify dtype option on import or set low_memory=False.\n",
      "  df = pd.read_csv(filename, index_col=None, header=0)\n",
      "C:\\Users\\SESA674517\\AppData\\Local\\Temp\\ipykernel_10460\\481933832.py:6: DtypeWarning: Columns (18) have mixed types. Specify dtype option on import or set low_memory=False.\n",
      "  df = pd.read_csv(filename, index_col=None, header=0)\n",
      "C:\\Users\\SESA674517\\AppData\\Local\\Temp\\ipykernel_10460\\481933832.py:6: DtypeWarning: Columns (17,20) have mixed types. Specify dtype option on import or set low_memory=False.\n",
      "  df = pd.read_csv(filename, index_col=None, header=0)\n",
      "C:\\Users\\SESA674517\\AppData\\Local\\Temp\\ipykernel_10460\\481933832.py:6: DtypeWarning: Columns (18) have mixed types. Specify dtype option on import or set low_memory=False.\n",
      "  df = pd.read_csv(filename, index_col=None, header=0)\n",
      "C:\\Users\\SESA674517\\AppData\\Local\\Temp\\ipykernel_10460\\481933832.py:6: DtypeWarning: Columns (18,20) have mixed types. Specify dtype option on import or set low_memory=False.\n",
      "  df = pd.read_csv(filename, index_col=None, header=0)\n",
      "C:\\Users\\SESA674517\\AppData\\Local\\Temp\\ipykernel_10460\\481933832.py:6: DtypeWarning: Columns (18,20) have mixed types. Specify dtype option on import or set low_memory=False.\n",
      "  df = pd.read_csv(filename, index_col=None, header=0)\n",
      "C:\\Users\\SESA674517\\AppData\\Local\\Temp\\ipykernel_10460\\481933832.py:6: DtypeWarning: Columns (18,20,22,24) have mixed types. Specify dtype option on import or set low_memory=False.\n",
      "  df = pd.read_csv(filename, index_col=None, header=0)\n",
      "C:\\Users\\SESA674517\\AppData\\Local\\Temp\\ipykernel_10460\\481933832.py:6: DtypeWarning: Columns (18) have mixed types. Specify dtype option on import or set low_memory=False.\n",
      "  df = pd.read_csv(filename, index_col=None, header=0)\n"
     ]
    }
   ],
   "source": [
    "all_files = glob.glob(os.path.join(os.getcwd(), \".datasets\", \"*.csv\"))\n",
    "\n",
    "li = []\n",
    "\n",
    "for filename in all_files:\n",
    "    df = pd.read_csv(filename, index_col=None, header=0)\n",
    "    li.append(df)\n",
    "\n",
    "dataset = pd.concat(li, axis=0, ignore_index=True)"
   ]
  },
  {
   "cell_type": "code",
   "execution_count": 39,
   "id": "4822ed5b-3638-4ca1-abe4-b6d00aa82379",
   "metadata": {},
   "outputs": [],
   "source": [
    "#dataset.head()"
   ]
  },
  {
   "cell_type": "code",
   "execution_count": 93,
   "id": "97d3131c-f732-44cf-bc3f-c854cc173fc9",
   "metadata": {},
   "outputs": [],
   "source": [
    "#dataset.info()"
   ]
  },
  {
   "cell_type": "code",
   "execution_count": 36,
   "id": "97ea07a5-815c-43d5-83c4-ba050cf67eb8",
   "metadata": {},
   "outputs": [],
   "source": [
    "#dataset.head()"
   ]
  },
  {
   "cell_type": "code",
   "execution_count": 31,
   "id": "39ef51bd-e0f2-44b1-826f-590a6d9a7dc0",
   "metadata": {},
   "outputs": [],
   "source": [
    "#dataset.describe()"
   ]
  },
  {
   "cell_type": "code",
   "execution_count": 32,
   "id": "922daba4-b1b0-48a3-bf3d-1931df7f94dd",
   "metadata": {},
   "outputs": [],
   "source": [
    "#dataset[\"nature_mutation\"].value_counts()"
   ]
  },
  {
   "cell_type": "code",
   "execution_count": 34,
   "id": "a6594abd-cf97-4dec-9902-b3a54073233f",
   "metadata": {},
   "outputs": [],
   "source": [
    "#dataset[\"type_local\"].value_counts()"
   ]
  },
  {
   "cell_type": "markdown",
   "id": "9ff2f5f2-80f4-4fe6-b5a8-e20d2d148a17",
   "metadata": {},
   "source": [
    "## Preparation"
   ]
  },
  {
   "cell_type": "code",
   "execution_count": 28,
   "id": "8e589060-3eb2-4316-875c-8cd1d56f305b",
   "metadata": {},
   "outputs": [],
   "source": [
    "features = [\"type_local\", \"surface_reelle_bati\", \"nombre_pieces_principales\", \"code_postal\", \"adresse_nom_voie\"]\n",
    "label = [\"valeur_fonciere\"]\n",
    "filter_labels = dataset[\"valeur_fonciere\"].notna()\n",
    "filter_sells = dataset[\"nature_mutation\"] == \"Vente\"\n",
    "filter_type = dataset[\"type_local\"].isin([\"Appartement\", \"Maison\"])\n",
    "dataset_filtered = dataset[filter_labels & filter_sells & filter_type][features + label].reset_index(drop=True)"
   ]
  },
  {
   "cell_type": "code",
   "execution_count": 94,
   "id": "1173be1c-f960-4abf-9072-6601f90c4287",
   "metadata": {},
   "outputs": [],
   "source": [
    "#dataset_filtered.info()"
   ]
  },
  {
   "cell_type": "code",
   "execution_count": 13,
   "id": "ef8a24c0-adc3-4ee1-845d-a5dce716e69d",
   "metadata": {},
   "outputs": [],
   "source": [
    "X = dataset_filtered[features]\n",
    "y = dataset_filtered[label]\n",
    "X_train, X_test, y_train, y_test = train_test_split(X, y, test_size=0.25, random_state=0)"
   ]
  },
  {
   "cell_type": "markdown",
   "id": "68585446-fe05-4959-82de-4a9c1b593b4c",
   "metadata": {},
   "source": [
    "## Training"
   ]
  },
  {
   "cell_type": "code",
   "execution_count": 14,
   "id": "333e6949-0c20-49d7-9580-d1ca7139eb4f",
   "metadata": {},
   "outputs": [
    {
     "name": "stdout",
     "output_type": "stream",
     "text": [
      "r2: 0.020112605079169343, rmse: 2835001.3053178713\n"
     ]
    }
   ],
   "source": [
    "imputer_pipeline = ColumnTransformer(\n",
    "    [\n",
    "        (\"median\", SimpleImputer(strategy=\"constant\", fill_value=0), [\"surface_reelle_bati\", \"nombre_pieces_principales\"]),\n",
    "    ]\n",
    ")\n",
    "\n",
    "num_pipeline = Pipeline(\n",
    "    [\n",
    "        (\"imputer\", imputer_pipeline),\n",
    "        (\"scaler\", StandardScaler()),\n",
    "    ]\n",
    ")\n",
    "\n",
    "transformers = ColumnTransformer(\n",
    "    [\n",
    "        (\"num\", num_pipeline, [\"surface_reelle_bati\", \"nombre_pieces_principales\"]),\n",
    "        (\"cat\", OneHotEncoder(), [\"type_local\"]),\n",
    "    ]\n",
    ")\n",
    "\n",
    "pipeline = Pipeline(\n",
    "    [\n",
    "        (\"transformers\", transformers),\n",
    "        (\"model\", LinearRegression()),\n",
    "    ]\n",
    ")\n",
    "\n",
    "pipeline.fit(X_train, y_train)\n",
    "y_pred = pipeline.predict(X_test)\n",
    "\n",
    "pred_r2 = r2_score(y_test, y_pred)\n",
    "pred_rmse = np.sqrt(mean_squared_error(y_test, y_pred))\n",
    "print(f\"r2: {pred_r2}, rmse: {pred_rmse}\")"
   ]
  },
  {
   "cell_type": "markdown",
   "id": "a73b53f8-2087-4ddf-a237-8510aa1e16e2",
   "metadata": {},
   "source": [
    "## Model serialization"
   ]
  },
  {
   "cell_type": "code",
   "execution_count": 15,
   "id": "89c391a9-9d54-430b-a2b0-0791ab140991",
   "metadata": {},
   "outputs": [],
   "source": [
    "def serialize_model(model, filepath: Path) -> None:\n",
    "    joblib.dump(model, filepath)"
   ]
  },
  {
   "cell_type": "code",
   "execution_count": 16,
   "id": "2fb08414-049f-4d4a-a42a-b02bf21528e7",
   "metadata": {},
   "outputs": [
    {
     "data": {
      "text/plain": [
       "WindowsPath('model.joblib')"
      ]
     },
     "execution_count": 16,
     "metadata": {},
     "output_type": "execute_result"
    }
   ],
   "source": [
    "model_path = Path(\".\") / \"model.joblib\"\n",
    "serialize_model(pipeline, model_path)\n",
    "model_path"
   ]
  }
 ],
 "metadata": {
  "kernelspec": {
   "display_name": "Python 3 (ipykernel)",
   "language": "python",
   "name": "python3"
  },
  "language_info": {
   "codemirror_mode": {
    "name": "ipython",
    "version": 3
   },
   "file_extension": ".py",
   "mimetype": "text/x-python",
   "name": "python",
   "nbconvert_exporter": "python",
   "pygments_lexer": "ipython3",
   "version": "3.10.5"
  }
 },
 "nbformat": 4,
 "nbformat_minor": 5
}
